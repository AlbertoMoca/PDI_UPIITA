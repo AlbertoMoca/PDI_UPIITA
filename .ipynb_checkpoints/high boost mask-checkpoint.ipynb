{
 "cells": [
  {
   "cell_type": "code",
   "execution_count": null,
   "metadata": {},
   "outputs": [],
   "source": [
    "import matplotlib.pyplot as plt\n",
    "import numpy as np\n",
    "from PIL import Image"
   ]
  },
  {
   "cell_type": "code",
   "execution_count": 2,
   "metadata": {},
   "outputs": [],
   "source": [
    "to_gray = lambda img:np.sum(img.copy() * [.299,.587,.114], axis=-1)"
   ]
  },
  {
   "cell_type": "code",
   "execution_count": 3,
   "metadata": {},
   "outputs": [],
   "source": [
    "img = Image.open('prueba01.jpg')\n",
    "img_g = to_gray(np.array(img)).astype(int)"
   ]
  },
  {
   "cell_type": "code",
   "execution_count": null,
   "metadata": {},
   "outputs": [],
   "source": [
    "A = 1\n",
    "\n",
    "new_img = np.zeros((img_g.shape[0],img_g.shape[1]))\n",
    "\n",
    "kernel_size = 3\n",
    "filtering_n = 1\n",
    "\n",
    "kernel = np.ones((kernel_size,kernel_size))\n",
    "kernel *= -1\n",
    "kernel[kernel_size//2,kernel_size//2] = A * kernel_size ** 2 - 1 \n",
    "\n",
    "\n",
    "#Filtering\n",
    "\n",
    "for k in range(filtering_n): \n",
    "    for i in range(img_g.shape[0]-kernel_size):\n",
    "        for j in range(img_g.shape[1]-kernel_size):\n",
    "            print(kernel)\n",
    "            new_img[i+kernel_size//2,j+kernel_size//2] = np.sum(img_g[i:i+kernel_size,j:j+kernel_size]*kernel)// (kernel_size ** 2)\n",
    "\n",
    "            \n",
    "fig, axs = plt.subplots(1,2)\n",
    "fig.set_size_inches(20, 20)\n",
    "axs[0].imshow(img_g,cmap=\"gray\")        \n",
    "axs[1].imshow(new_img,cmap=\"gray\")\n",
    "#axs[2].imshow([[255,0],[0,255]], vmin=0, vmax=255,cmap=\"gray\")"
   ]
  },
  {
   "cell_type": "code",
   "execution_count": null,
   "metadata": {},
   "outputs": [],
   "source": []
  }
 ],
 "metadata": {
  "kernelspec": {
   "display_name": "Python 3",
   "language": "python",
   "name": "python3"
  },
  "language_info": {
   "codemirror_mode": {
    "name": "ipython",
    "version": 3
   },
   "file_extension": ".py",
   "mimetype": "text/x-python",
   "name": "python",
   "nbconvert_exporter": "python",
   "pygments_lexer": "ipython3",
   "version": "3.8.6"
  }
 },
 "nbformat": 4,
 "nbformat_minor": 4
}
